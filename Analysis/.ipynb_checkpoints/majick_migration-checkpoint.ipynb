{
 "cells": [
  {
   "cell_type": "code",
   "execution_count": 1,
   "metadata": {},
   "outputs": [],
   "source": [
    "import pandas as pd\n",
    "import matplotlib.pyplot as plt\n",
    "import numpy as np\n",
    "import datetime as dt\n",
    "import time\n",
    "from scipy.misc import imread"
   ]
  },
  {
   "cell_type": "code",
   "execution_count": 2,
   "metadata": {},
   "outputs": [],
   "source": [
    "# ------------------------------------ Cleanup CSV files --------------------------------------------------------\n",
    "\n",
    "# Get sources of raw data for cleanup\n",
    "species_filename1 = \"../Data/Clean/Monarch/Monarch_clean.csv\"\n",
    "species_filename2 = \"../Data/Clean/Whale/Blue_Whale.csv\"\n",
    "species_filename3 = \"../Data/Clean/Whale/Humpback_whale.csv\"\n",
    "species_filename4 = \"../Data/Clean/Tern/Arctic Tern.csv\"\n",
    "\n",
    "# Reading csv files\n",
    "df_monarch = pd.read_csv(species_filename1)\n",
    "df_blue_whale = pd.read_csv(species_filename2)\n",
    "df_humpback_whale = pd.read_csv(species_filename3)\n",
    "df_arctic_tern = pd.read_csv(species_filename4)"
   ]
  },
  {
   "cell_type": "code",
   "execution_count": 3,
   "metadata": {},
   "outputs": [
    {
     "ename": "NameError",
     "evalue": "name 'df_humpback_whale' is not defined",
     "output_type": "error",
     "traceback": [
      "\u001b[1;31m---------------------------------------------------------------------------\u001b[0m",
      "\u001b[1;31mNameError\u001b[0m                                 Traceback (most recent call last)",
      "\u001b[1;32m<ipython-input-3-e47d746dff19>\u001b[0m in \u001b[0;36m<module>\u001b[1;34m\u001b[0m\n\u001b[1;32m----> 1\u001b[1;33m \u001b[0mdf_humpback_whale\u001b[0m\u001b[1;33m.\u001b[0m\u001b[0mhead\u001b[0m\u001b[1;33m(\u001b[0m\u001b[1;33m)\u001b[0m\u001b[1;33m\u001b[0m\u001b[1;33m\u001b[0m\u001b[0m\n\u001b[0m",
      "\u001b[1;31mNameError\u001b[0m: name 'df_humpback_whale' is not defined"
     ]
    }
   ],
   "source": [
    "df_humpback_whale.head()"
   ]
  },
  {
   "cell_type": "code",
   "execution_count": null,
   "metadata": {},
   "outputs": [],
   "source": [
    "arctic_adj = df_arctic_tern.dropna(subset = ['latitude','longitude','date_min'])\n",
    "arctic_adj['year'] = pd.DatetimeIndex(arctic_adj['date_min']).year\n",
    "arctic_adj['month']= pd.DatetimeIndex(arctic_adj['date_min']).month\n",
    "arctic_1969 = arctic_adj.loc[arctic_adj['year'] == 1969]\n",
    "arctic_1970 = arctic_adj.loc[arctic_adj['year'] == 1970]\n",
    "arctic_1971 = arctic_adj.loc[arctic_adj['year'] == 1971]\n",
    "arctic_1972 = arctic_adj.loc[arctic_adj['year'] == 1972]\n",
    "arctic_1973 = arctic_adj.loc[arctic_adj['year'] == 1973]\n",
    "\n",
    "arctic_1969.count()\n",
    "# Convert String column into Date/Time column in DF\n",
    "# df_arctic_tern['date_time'] = pd.to_datetime(df_arctic_tern['date_time'])\n",
    "# df_arctic_tern[\"date\"] = df_arctic_tern[\"date_time\"].dt.strftime(\"%d/%m/%Y\")\n",
    "# time_series = pd.DataFrame(df_arctic_tern['date_time'].value_counts().reset_index())\n",
    "# time_series.columns = ['date', 'count']\n",
    "# time_series.head()"
   ]
  },
  {
   "cell_type": "code",
   "execution_count": null,
   "metadata": {},
   "outputs": [],
   "source": [
    "plt.scatter(arctic_1969.month,arctic_1969.latitude,s=300,alpha = 0.75,color = 'purple',edgecolor = 'black',linewidth=0.75)\n",
    "plt.scatter(arctic_1970.month,arctic_1970.latitude,s=200,alpha = 0.75,color = 'green',edgecolor = 'black',linewidth=0.75)\n",
    "plt.scatter(arctic_1971.month,arctic_1971.latitude,s=150,alpha = 0.75,color = 'yellow',edgecolor = 'black',linewidth=0.75)\n",
    "plt.scatter(arctic_1972.month,arctic_1972.latitude,s=100, alpha = 0.5,color = 'blue',edgecolor = 'black',linewidth=0.75)\n",
    "plt.scatter(arctic_1973.month,arctic_1973.latitude,s=50 ,alpha = 0.4,color = 'red',edgecolor = 'black',linewidth=0.75)"
   ]
  },
  {
   "cell_type": "code",
   "execution_count": null,
   "metadata": {},
   "outputs": [],
   "source": [
    "# Plotting the Data - Date/Time vs. Latitude\n",
    "plt.figure(figsize=(10,6))\n",
    "plt.scatter(df_arctic_tern[\"date_min\"], df_arctic_tern[\"latitude\"], color='b', alpha=0.5)\n",
    "plt.grid()\n",
    "plt.xlabel('Date (min)')\n",
    "plt.ylabel('Latitude')\n",
    "plt.title(f'Date/ (min) vs Latitude ({df_arctic_tern[\"species\"][1]})')\n",
    "# plt.savefig(\"./output_data/LatVsMaxTemp.png\")\n",
    "plt.show()"
   ]
  },
  {
   "cell_type": "code",
   "execution_count": null,
   "metadata": {},
   "outputs": [],
   "source": [
    "df_humpback_whale.head()"
   ]
  },
  {
   "cell_type": "code",
   "execution_count": null,
   "metadata": {},
   "outputs": [],
   "source": [
    "monarch_adj = df_monarch.dropna(subset = ['latitude','longitude','observed_on'])\n",
    "monarch_adj['year'] = pd.DatetimeIndex(monarch_adj['observed_on']).year\n",
    "monarch_adj['month']= pd.DatetimeIndex(monarch_adj['observed_on']).month\n",
    "monarch_2014 = monarch_adj.loc[monarch_adj['year'] == 2014]\n",
    "monarch_2015 = monarch_adj.loc[monarch_adj['year'] == 2015]\n",
    "monarch_2016 = monarch_adj.loc[monarch_adj['year'] == 2016]\n",
    "monarch_2017 = monarch_adj.loc[monarch_adj['year'] == 2017]\n",
    "monarch_2018 = monarch_adj.loc[monarch_adj['year'] == 2018]\n",
    "\n",
    "monarch_2014.count()\n"
   ]
  },
  {
   "cell_type": "code",
   "execution_count": null,
   "metadata": {},
   "outputs": [],
   "source": [
    "stderr_lon_2017=monarch_2017.longitude.sem(axis=0)\n",
    "stderr_lat_2017=monarch_2017.latitude.sem(axis=0)\n",
    "stderr_lon_2018=monarch_2017.longitude.sem(axis=0)\n",
    "stderr_lon_2018=monarch_2017.latitude.sem(axis=0)"
   ]
  },
  {
   "cell_type": "code",
   "execution_count": null,
   "metadata": {},
   "outputs": [],
   "source": [
    "plt.scatter(monarch_2014.month,monarch_2014.latitude,s=300,alpha = 0.75,color = 'purple',edgecolor = 'black',linewidth=0.75)\n",
    "plt.scatter(monarch_2015.month,monarch_2015.latitude,s=300,alpha = 0.75,color = 'green',edgecolor = 'black',linewidth=0.75)\n",
    "plt.scatter(monarch_2016.month,monarch_2016.latitude,s=200,alpha = 0.75,color = 'yellow',edgecolor = 'black',linewidth=0.75)\n",
    "plt.scatter(monarch_2017.month,monarch_2017.latitude,s=150, alpha = 0.5,color = 'blue',edgecolor = 'black',linewidth=0.75)\n",
    "plt.scatter(monarch_2018.month,monarch_2018.latitude,s=50 ,alpha = 0.4,color = 'red',edgecolor = 'black',linewidth=0.75)\n",
    "\n",
    "plt.show()"
   ]
  },
  {
   "cell_type": "code",
   "execution_count": null,
   "metadata": {},
   "outputs": [],
   "source": [
    "plt.scatter(monarch_2017.longitude,monarch_2017.month,s=150, alpha = 0.5,color = 'blue',edgecolor = 'black',linewidth=0.75)\n",
    "plt.scatter(monarch_2018.longitude,monarch_2018.month,s=50 ,alpha = 0.4,color = 'red',edgecolor = 'black',linewidth=0.75)\n"
   ]
  },
  {
   "cell_type": "code",
   "execution_count": null,
   "metadata": {},
   "outputs": [],
   "source": [
    "plt.scatter(monarch_2017.latitude,monarch_2017.longitude,s=50, alpha = 0.5,color = 'blue',edgecolor = 'black',linewidth=0.75)\n",
    "plt.scatter(monarch_2018.latitude,monarch_2018.longitude,s=50 ,alpha = 0.4,color = 'red',edgecolor = 'black',linewidth=0.75)\n",
    "plt.scatter(monarch_2018.latitude,monarch_2018.longitude,s=50 ,alpha = 0.4,color = 'red',edgecolor = 'black',linewidth=0.75)\n"
   ]
  },
  {
   "cell_type": "code",
   "execution_count": null,
   "metadata": {},
   "outputs": [],
   "source": [
    "ind = np.arange(monarch_adj.month)    # the x locations for the groups\n",
    "width = 0.35       # the width of the bars: can also be len(x) sequence\n",
    "lon1 = plt.bar(ind, monarch_2017.longitude, width, yerr=stderr_lon_2017)\n",
    "lon2 = plt.bar(ind, monarch_2018.longitude, width,\n",
    "             bottom=monarch_2018.longitude, yerr=stderr_lon_2018)\n",
    "\n",
    "plt.ylabel('Count')\n",
    "plt.xticks(ind, ('4', '5', '6', '7', '8', '9', '10', '11', '12'))\n",
    "plt.yticks(np.arange(0, 200, 10))\n",
    "\n",
    "plt.show()"
   ]
  },
  {
   "cell_type": "code",
   "execution_count": null,
   "metadata": {},
   "outputs": [],
   "source": []
  }
 ],
 "metadata": {
  "kernelspec": {
   "display_name": "Python 3",
   "language": "python",
   "name": "python3"
  },
  "language_info": {
   "codemirror_mode": {
    "name": "ipython",
    "version": 3
   },
   "file_extension": ".py",
   "mimetype": "text/x-python",
   "name": "python",
   "nbconvert_exporter": "python",
   "pygments_lexer": "ipython3",
   "version": "3.7.1"
  }
 },
 "nbformat": 4,
 "nbformat_minor": 2
}
