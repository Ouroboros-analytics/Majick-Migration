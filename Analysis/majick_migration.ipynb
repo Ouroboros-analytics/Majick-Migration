{
 "cells": [
  {
   "cell_type": "code",
   "execution_count": null,
   "metadata": {},
   "outputs": [],
   "source": [
    "import pandas as pd\n",
    "import matplotlib.pyplot as plt\n",
    "import numpy as np\n",
    "import datetime as dt\n",
    "import time\n",
    "from scipy.misc import imread"
   ]
  },
  {
   "cell_type": "code",
   "execution_count": 2,
   "metadata": {},
   "outputs": [],
   "source": [
    "# ------------------------------------ Cleanup CSV files --------------------------------------------------------\n",
    "\n",
    "# Get sources of raw data for cleanup\n",
    "species_filename1 = \"../Data/Clean/Monarch/Monarch_clean.csv\"\n",
    "species_filename2 = \"../Data/Clean/Whale/Blue_Whale.csv\"\n",
    "species_filename3 = \"../Data/Clean/Whale/Humpback_whale.csv\"\n",
    "species_filename4 = \"../Data/Clean/Tern/Arctic Tern.csv\"\n",
    "\n",
    "# Reading csv files\n",
    "df_monarch = pd.read_csv(species_filename1)\n",
    "#df_blue_whale = pd.read_csv(species_filename2)\n",
    "#df_humpback_whale = pd.read_csv(species_filename3)\n",
    "df_arctic_tern = pd.read_csv(species_filename4)"
   ]
  },
  {
   "cell_type": "code",
   "execution_count": 3,
   "metadata": {},
   "outputs": [
    {
     "data": {
      "text/html": [
       "<div>\n",
       "<style scoped>\n",
       "    .dataframe tbody tr th:only-of-type {\n",
       "        vertical-align: middle;\n",
       "    }\n",
       "\n",
       "    .dataframe tbody tr th {\n",
       "        vertical-align: top;\n",
       "    }\n",
       "\n",
       "    .dataframe thead th {\n",
       "        text-align: right;\n",
       "    }\n",
       "</style>\n",
       "<table border=\"1\" class=\"dataframe\">\n",
       "  <thead>\n",
       "    <tr style=\"text-align: right;\">\n",
       "      <th></th>\n",
       "      <th>geom</th>\n",
       "      <th>oid</th>\n",
       "      <th>longitude</th>\n",
       "      <th>latitude</th>\n",
       "      <th>providers</th>\n",
       "      <th>species</th>\n",
       "      <th>datasets</th>\n",
       "      <th>date_min</th>\n",
       "      <th>date_max</th>\n",
       "      <th>num_records</th>\n",
       "      <th>num_animals</th>\n",
       "      <th>csquare</th>\n",
       "      <th>geom_wkt</th>\n",
       "    </tr>\n",
       "  </thead>\n",
       "  <tbody>\n",
       "    <tr>\n",
       "      <th>0</th>\n",
       "      <td>0103000020E61000000100000005000000000000000060...</td>\n",
       "      <td>5823119</td>\n",
       "      <td>-180</td>\n",
       "      <td>-17</td>\n",
       "      <td>Wildlife Conservation Society</td>\n",
       "      <td>Megaptera novaeangliae</td>\n",
       "      <td>885</td>\n",
       "      <td>8/1/1913</td>\n",
       "      <td>8/1/1913</td>\n",
       "      <td>1</td>\n",
       "      <td>1.0</td>\n",
       "      <td>5117:479</td>\n",
       "      <td>POLYGON((-179 -17,-179 -18,-180 -18,-180 -17,-...</td>\n",
       "    </tr>\n",
       "    <tr>\n",
       "      <th>1</th>\n",
       "      <td>0103000020E61000000100000005000000000000000060...</td>\n",
       "      <td>180494</td>\n",
       "      <td>-180</td>\n",
       "      <td>61</td>\n",
       "      <td>National Marine Mammal Laboratory</td>\n",
       "      <td>Megaptera novaeangliae</td>\n",
       "      <td>821</td>\n",
       "      <td>7/18/2008</td>\n",
       "      <td>7/18/2008</td>\n",
       "      <td>2</td>\n",
       "      <td>2.0</td>\n",
       "      <td>7617:209</td>\n",
       "      <td>POLYGON((-179 60,-180 60,-180 61,-179 61,-179 ...</td>\n",
       "    </tr>\n",
       "    <tr>\n",
       "      <th>2</th>\n",
       "      <td>0103000020E61000000100000005000000000000000060...</td>\n",
       "      <td>180338</td>\n",
       "      <td>-180</td>\n",
       "      <td>62</td>\n",
       "      <td>National Marine Mammal Laboratory</td>\n",
       "      <td>Megaptera novaeangliae</td>\n",
       "      <td>821</td>\n",
       "      <td>7/31/2010</td>\n",
       "      <td>7/31/2010</td>\n",
       "      <td>1</td>\n",
       "      <td>3.0</td>\n",
       "      <td>7617:229</td>\n",
       "      <td>POLYGON((-179 62,-180 62,-180 63,-179 63,-179 ...</td>\n",
       "    </tr>\n",
       "    <tr>\n",
       "      <th>3</th>\n",
       "      <td>0103000020E61000000100000005000000000000000040...</td>\n",
       "      <td>180589</td>\n",
       "      <td>-178</td>\n",
       "      <td>60</td>\n",
       "      <td>National Marine Mammal Laboratory</td>\n",
       "      <td>Megaptera novaeangliae</td>\n",
       "      <td>821</td>\n",
       "      <td>7/29/2010</td>\n",
       "      <td>7/30/2010</td>\n",
       "      <td>5</td>\n",
       "      <td>6.0</td>\n",
       "      <td>7517:498</td>\n",
       "      <td>POLYGON((-178 59,-179 59,-179 60,-178 60,-178 ...</td>\n",
       "    </tr>\n",
       "    <tr>\n",
       "      <th>4</th>\n",
       "      <td>0103000020E61000000100000005000000000000000020...</td>\n",
       "      <td>5823772</td>\n",
       "      <td>-177</td>\n",
       "      <td>-23</td>\n",
       "      <td>Wildlife Conservation Society</td>\n",
       "      <td>Megaptera novaeangliae</td>\n",
       "      <td>885</td>\n",
       "      <td>10/1/1913</td>\n",
       "      <td>10/1/1913</td>\n",
       "      <td>3</td>\n",
       "      <td>3.0</td>\n",
       "      <td>5217:237</td>\n",
       "      <td>POLYGON((-177 -23,-177 -24,-178 -24,-178 -23,-...</td>\n",
       "    </tr>\n",
       "  </tbody>\n",
       "</table>\n",
       "</div>"
      ],
      "text/plain": [
       "                                                geom      oid  longitude  \\\n",
       "0  0103000020E61000000100000005000000000000000060...  5823119       -180   \n",
       "1  0103000020E61000000100000005000000000000000060...   180494       -180   \n",
       "2  0103000020E61000000100000005000000000000000060...   180338       -180   \n",
       "3  0103000020E61000000100000005000000000000000040...   180589       -178   \n",
       "4  0103000020E61000000100000005000000000000000020...  5823772       -177   \n",
       "\n",
       "   latitude                          providers                 species  \\\n",
       "0       -17      Wildlife Conservation Society  Megaptera novaeangliae   \n",
       "1        61  National Marine Mammal Laboratory  Megaptera novaeangliae   \n",
       "2        62  National Marine Mammal Laboratory  Megaptera novaeangliae   \n",
       "3        60  National Marine Mammal Laboratory  Megaptera novaeangliae   \n",
       "4       -23      Wildlife Conservation Society  Megaptera novaeangliae   \n",
       "\n",
       "  datasets   date_min   date_max  num_records  num_animals   csquare  \\\n",
       "0      885   8/1/1913   8/1/1913            1          1.0  5117:479   \n",
       "1      821  7/18/2008  7/18/2008            2          2.0  7617:209   \n",
       "2      821  7/31/2010  7/31/2010            1          3.0  7617:229   \n",
       "3      821  7/29/2010  7/30/2010            5          6.0  7517:498   \n",
       "4      885  10/1/1913  10/1/1913            3          3.0  5217:237   \n",
       "\n",
       "                                            geom_wkt  \n",
       "0  POLYGON((-179 -17,-179 -18,-180 -18,-180 -17,-...  \n",
       "1  POLYGON((-179 60,-180 60,-180 61,-179 61,-179 ...  \n",
       "2  POLYGON((-179 62,-180 62,-180 63,-179 63,-179 ...  \n",
       "3  POLYGON((-178 59,-179 59,-179 60,-178 60,-178 ...  \n",
       "4  POLYGON((-177 -23,-177 -24,-178 -24,-178 -23,-...  "
      ]
     },
     "execution_count": 3,
     "metadata": {},
     "output_type": "execute_result"
    }
   ],
   "source": [
    "df_humpback_whale.head()"
   ]
  },
  {
   "cell_type": "code",
   "execution_count": null,
   "metadata": {},
   "outputs": [],
   "source": [
    "arctic_adj = df_arctic_tern.dropna(subset = ['latitude','longitude','date_min'])\n",
    "arctic_adj['year'] = pd.DatetimeIndex(arctic_adj['date_min']).year\n",
    "arctic_adj['month']= pd.DatetimeIndex(arctic_adj['date_min']).month\n",
    "arctic_1969 = arctic_adj.loc[arctic_adj['year'] == 1969]\n",
    "arctic_1970 = arctic_adj.loc[arctic_adj['year'] == 1970]\n",
    "arctic_1971 = arctic_adj.loc[arctic_adj['year'] == 1971]\n",
    "arctic_1972 = arctic_adj.loc[arctic_adj['year'] == 1972]\n",
    "arctic_1973 = arctic_adj.loc[arctic_adj['year'] == 1973]\n",
    "\n",
    "arctic_1969.count()\n",
    "# Convert String column into Date/Time column in DF\n",
    "# df_arctic_tern['date_time'] = pd.to_datetime(df_arctic_tern['date_time'])\n",
    "# df_arctic_tern[\"date\"] = df_arctic_tern[\"date_time\"].dt.strftime(\"%d/%m/%Y\")\n",
    "# time_series = pd.DataFrame(df_arctic_tern['date_time'].value_counts().reset_index())\n",
    "# time_series.columns = ['date', 'count']\n",
    "# time_series.head()"
   ]
  },
  {
   "cell_type": "code",
   "execution_count": null,
   "metadata": {},
   "outputs": [],
   "source": [
    "plt.scatter(arctic_1969.month,arctic_1969.latitude,s=300,alpha = 0.75,color = 'purple',edgecolor = 'black',linewidth=0.75)\n",
    "plt.scatter(arctic_1970.month,arctic_1970.latitude,s=200,alpha = 0.75,color = 'green',edgecolor = 'black',linewidth=0.75)\n",
    "plt.scatter(arctic_1971.month,arctic_1971.latitude,s=150,alpha = 0.75,color = 'yellow',edgecolor = 'black',linewidth=0.75)\n",
    "plt.scatter(arctic_1972.month,arctic_1972.latitude,s=100, alpha = 0.5,color = 'blue',edgecolor = 'black',linewidth=0.75)\n",
    "plt.scatter(arctic_1973.month,arctic_1973.latitude,s=50 ,alpha = 0.4,color = 'red',edgecolor = 'black',linewidth=0.75)"
   ]
  },
  {
   "cell_type": "code",
   "execution_count": null,
   "metadata": {},
   "outputs": [],
   "source": [
    "# Plotting the Data - Date/Time vs. Latitude\n",
    "plt.figure(figsize=(10,6))\n",
    "plt.scatter(df_arctic_tern[\"date_min\"], df_arctic_tern[\"latitude\"], color='b', alpha=0.5)\n",
    "plt.grid()\n",
    "plt.xlabel('Date (min)')\n",
    "plt.ylabel('Latitude')\n",
    "plt.title(f'Date/ (min) vs Latitude ({df_arctic_tern[\"species\"][1]})')\n",
    "# plt.savefig(\"./output_data/LatVsMaxTemp.png\")\n",
    "plt.show()"
   ]
  },
  {
   "cell_type": "code",
   "execution_count": null,
   "metadata": {},
   "outputs": [],
   "source": [
    "df_humpback_whale.head()"
   ]
  },
  {
   "cell_type": "code",
   "execution_count": null,
   "metadata": {},
   "outputs": [],
   "source": [
    "monarch_adj = df_monarch.dropna(subset = ['latitude','longitude','observed_on'])\n",
    "monarch_adj['year'] = pd.DatetimeIndex(monarch_adj['observed_on']).year\n",
    "monarch_adj['month']= pd.DatetimeIndex(monarch_adj['observed_on']).month\n",
    "monarch_2014 = monarch_adj.loc[monarch_adj['year'] == 2014]\n",
    "monarch_2015 = monarch_adj.loc[monarch_adj['year'] == 2015]\n",
    "monarch_2016 = monarch_adj.loc[monarch_adj['year'] == 2016]\n",
    "monarch_2017 = monarch_adj.loc[monarch_adj['year'] == 2017]\n",
    "monarch_2018 = monarch_adj.loc[monarch_adj['year'] == 2018]\n",
    "\n",
    "monarch_2014.count()\n"
   ]
  },
  {
   "cell_type": "code",
   "execution_count": null,
   "metadata": {},
   "outputs": [],
   "source": [
    "stderr_lon_2017=monarch_2017.longitude.sem(axis=0)\n",
    "stderr_lat_2017=monarch_2017.latitude.sem(axis=0)\n",
    "stderr_lon_2018=monarch_2017.longitude.sem(axis=0)\n",
    "stderr_lon_2018=monarch_2017.latitude.sem(axis=0)"
   ]
  },
  {
   "cell_type": "code",
   "execution_count": null,
   "metadata": {},
   "outputs": [],
   "source": [
    "plt.scatter(monarch_2014.month,monarch_2014.latitude,s=300,alpha = 0.75,color = 'purple',edgecolor = 'black',linewidth=0.75)\n",
    "plt.scatter(monarch_2015.month,monarch_2015.latitude,s=300,alpha = 0.75,color = 'green',edgecolor = 'black',linewidth=0.75)\n",
    "plt.scatter(monarch_2016.month,monarch_2016.latitude,s=200,alpha = 0.75,color = 'yellow',edgecolor = 'black',linewidth=0.75)\n",
    "plt.scatter(monarch_2017.month,monarch_2017.latitude,s=150, alpha = 0.5,color = 'blue',edgecolor = 'black',linewidth=0.75)\n",
    "plt.scatter(monarch_2018.month,monarch_2018.latitude,s=50 ,alpha = 0.4,color = 'red',edgecolor = 'black',linewidth=0.75)\n",
    "\n",
    "plt.show()"
   ]
  },
  {
   "cell_type": "code",
   "execution_count": null,
   "metadata": {},
   "outputs": [],
   "source": [
    "plt.scatter(monarch_2017.longitude,monarch_2017.month,s=150, alpha = 0.5,color = 'blue',edgecolor = 'black',linewidth=0.75)\n",
    "plt.scatter(monarch_2018.longitude,monarch_2018.month,s=50 ,alpha = 0.4,color = 'red',edgecolor = 'black',linewidth=0.75)\n"
   ]
  },
  {
   "cell_type": "code",
   "execution_count": null,
   "metadata": {},
   "outputs": [],
   "source": [
    "plt.scatter(monarch_2017.latitude,monarch_2017.longitude,s=50, alpha = 0.5,color = 'blue',edgecolor = 'black',linewidth=0.75)\n",
    "plt.scatter(monarch_2018.latitude,monarch_2018.longitude,s=50 ,alpha = 0.4,color = 'red',edgecolor = 'black',linewidth=0.75)\n",
    "plt.scatter(monarch_2018.latitude,monarch_2018.longitude,s=50 ,alpha = 0.4,color = 'red',edgecolor = 'black',linewidth=0.75)\n"
   ]
  },
  {
   "cell_type": "code",
   "execution_count": null,
   "metadata": {},
   "outputs": [],
   "source": [
    "ind = np.arange(monarch_adj.month)    # the x locations for the groups\n",
    "width = 0.35       # the width of the bars: can also be len(x) sequence\n",
    "lon1 = plt.bar(ind, monarch_2017.longitude, width, yerr=stderr_lon_2017)\n",
    "lon2 = plt.bar(ind, monarch_2018.longitude, width,\n",
    "             bottom=monarch_2018.longitude, yerr=stderr_lon_2018)\n",
    "\n",
    "plt.ylabel('Count')\n",
    "plt.xticks(ind, ('4', '5', '6', '7', '8', '9', '10', '11', '12'))\n",
    "plt.yticks(np.arange(0, 200, 10))\n",
    "\n",
    "plt.show()"
   ]
  },
  {
   "cell_type": "code",
   "execution_count": null,
   "metadata": {},
   "outputs": [],
   "source": []
  }
 ],
 "metadata": {
  "kernelspec": {
   "display_name": "Python 3",
   "language": "python",
   "name": "python3"
  },
  "language_info": {
   "codemirror_mode": {
    "name": "ipython",
    "version": 3
   },
   "file_extension": ".py",
   "mimetype": "text/x-python",
   "name": "python",
   "nbconvert_exporter": "python",
   "pygments_lexer": "ipython3",
   "version": "3.7.1"
  }
 },
 "nbformat": 4,
 "nbformat_minor": 2
}
